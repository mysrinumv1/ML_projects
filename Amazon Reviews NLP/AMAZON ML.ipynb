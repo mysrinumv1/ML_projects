{
 "cells": [
  {
   "cell_type": "code",
   "execution_count": 1,
   "metadata": {},
   "outputs": [],
   "source": [
    "# importing libraries\n",
    "import warnings\n",
    "warnings.filterwarnings(\"ignore\")\n",
    "import numpy as np\n",
    "import pandas as pd\n",
    "import matplotlib.pyplot as plt\n",
    "import seaborn as sns\n",
    "import sqlite3\n",
    "import nltk\n",
    "from sklearn.feature_extraction.text import TfidfTransformer,TfidfVectorizer,CountVectorizer"
   ]
  },
  {
   "cell_type": "code",
   "execution_count": 2,
   "metadata": {},
   "outputs": [],
   "source": [
    "#connecting to database\n",
    "con=sqlite3.connect(\"database.sqlite\")"
   ]
  },
  {
   "cell_type": "code",
   "execution_count": 3,
   "metadata": {},
   "outputs": [],
   "source": [
    "#querying 10000 reviews using pandas query\n",
    "amazon_review_data=pd.read_sql_query(\"\"\"select * from Reviews where score !=3 Limit 10000\"\"\",con)"
   ]
  },
  {
   "cell_type": "code",
   "execution_count": 4,
   "metadata": {},
   "outputs": [
    {
     "data": {
      "text/html": [
       "<div>\n",
       "<style scoped>\n",
       "    .dataframe tbody tr th:only-of-type {\n",
       "        vertical-align: middle;\n",
       "    }\n",
       "\n",
       "    .dataframe tbody tr th {\n",
       "        vertical-align: top;\n",
       "    }\n",
       "\n",
       "    .dataframe thead th {\n",
       "        text-align: right;\n",
       "    }\n",
       "</style>\n",
       "<table border=\"1\" class=\"dataframe\">\n",
       "  <thead>\n",
       "    <tr style=\"text-align: right;\">\n",
       "      <th></th>\n",
       "      <th>Id</th>\n",
       "      <th>ProductId</th>\n",
       "      <th>UserId</th>\n",
       "      <th>ProfileName</th>\n",
       "      <th>HelpfulnessNumerator</th>\n",
       "      <th>HelpfulnessDenominator</th>\n",
       "      <th>Score</th>\n",
       "      <th>Time</th>\n",
       "      <th>Summary</th>\n",
       "      <th>Text</th>\n",
       "    </tr>\n",
       "  </thead>\n",
       "  <tbody>\n",
       "    <tr>\n",
       "      <th>0</th>\n",
       "      <td>1</td>\n",
       "      <td>B001E4KFG0</td>\n",
       "      <td>A3SGXH7AUHU8GW</td>\n",
       "      <td>delmartian</td>\n",
       "      <td>1</td>\n",
       "      <td>1</td>\n",
       "      <td>5</td>\n",
       "      <td>1303862400</td>\n",
       "      <td>Good Quality Dog Food</td>\n",
       "      <td>I have bought several of the Vitality canned d...</td>\n",
       "    </tr>\n",
       "    <tr>\n",
       "      <th>1</th>\n",
       "      <td>2</td>\n",
       "      <td>B00813GRG4</td>\n",
       "      <td>A1D87F6ZCVE5NK</td>\n",
       "      <td>dll pa</td>\n",
       "      <td>0</td>\n",
       "      <td>0</td>\n",
       "      <td>1</td>\n",
       "      <td>1346976000</td>\n",
       "      <td>Not as Advertised</td>\n",
       "      <td>Product arrived labeled as Jumbo Salted Peanut...</td>\n",
       "    </tr>\n",
       "  </tbody>\n",
       "</table>\n",
       "</div>"
      ],
      "text/plain": [
       "   Id   ProductId          UserId ProfileName  HelpfulnessNumerator  \\\n",
       "0   1  B001E4KFG0  A3SGXH7AUHU8GW  delmartian                     1   \n",
       "1   2  B00813GRG4  A1D87F6ZCVE5NK      dll pa                     0   \n",
       "\n",
       "   HelpfulnessDenominator  Score        Time                Summary  \\\n",
       "0                       1      5  1303862400  Good Quality Dog Food   \n",
       "1                       0      1  1346976000      Not as Advertised   \n",
       "\n",
       "                                                Text  \n",
       "0  I have bought several of the Vitality canned d...  \n",
       "1  Product arrived labeled as Jumbo Salted Peanut...  "
      ]
     },
     "execution_count": 4,
     "metadata": {},
     "output_type": "execute_result"
    }
   ],
   "source": [
    "amazon_review_data.head(2)"
   ]
  },
  {
   "cell_type": "code",
   "execution_count": 5,
   "metadata": {},
   "outputs": [],
   "source": [
    "# converting positve/negative based on score\n",
    "def rating(x):\n",
    "    if x < 3:\n",
    "        return 0\n",
    "    return 1"
   ]
  },
  {
   "cell_type": "code",
   "execution_count": 6,
   "metadata": {},
   "outputs": [],
   "source": [
    "amazon_review_data[\"Score\"]=amazon_review_data[\"Score\"].map(rating)"
   ]
  },
  {
   "cell_type": "code",
   "execution_count": 7,
   "metadata": {},
   "outputs": [
    {
     "data": {
      "text/html": [
       "<div>\n",
       "<style scoped>\n",
       "    .dataframe tbody tr th:only-of-type {\n",
       "        vertical-align: middle;\n",
       "    }\n",
       "\n",
       "    .dataframe tbody tr th {\n",
       "        vertical-align: top;\n",
       "    }\n",
       "\n",
       "    .dataframe thead th {\n",
       "        text-align: right;\n",
       "    }\n",
       "</style>\n",
       "<table border=\"1\" class=\"dataframe\">\n",
       "  <thead>\n",
       "    <tr style=\"text-align: right;\">\n",
       "      <th></th>\n",
       "      <th>Id</th>\n",
       "      <th>ProductId</th>\n",
       "      <th>UserId</th>\n",
       "      <th>ProfileName</th>\n",
       "      <th>HelpfulnessNumerator</th>\n",
       "      <th>HelpfulnessDenominator</th>\n",
       "      <th>Score</th>\n",
       "      <th>Time</th>\n",
       "      <th>Summary</th>\n",
       "      <th>Text</th>\n",
       "    </tr>\n",
       "  </thead>\n",
       "  <tbody>\n",
       "    <tr>\n",
       "      <th>0</th>\n",
       "      <td>1</td>\n",
       "      <td>B001E4KFG0</td>\n",
       "      <td>A3SGXH7AUHU8GW</td>\n",
       "      <td>delmartian</td>\n",
       "      <td>1</td>\n",
       "      <td>1</td>\n",
       "      <td>1</td>\n",
       "      <td>1303862400</td>\n",
       "      <td>Good Quality Dog Food</td>\n",
       "      <td>I have bought several of the Vitality canned d...</td>\n",
       "    </tr>\n",
       "    <tr>\n",
       "      <th>1</th>\n",
       "      <td>2</td>\n",
       "      <td>B00813GRG4</td>\n",
       "      <td>A1D87F6ZCVE5NK</td>\n",
       "      <td>dll pa</td>\n",
       "      <td>0</td>\n",
       "      <td>0</td>\n",
       "      <td>0</td>\n",
       "      <td>1346976000</td>\n",
       "      <td>Not as Advertised</td>\n",
       "      <td>Product arrived labeled as Jumbo Salted Peanut...</td>\n",
       "    </tr>\n",
       "  </tbody>\n",
       "</table>\n",
       "</div>"
      ],
      "text/plain": [
       "   Id   ProductId          UserId ProfileName  HelpfulnessNumerator  \\\n",
       "0   1  B001E4KFG0  A3SGXH7AUHU8GW  delmartian                     1   \n",
       "1   2  B00813GRG4  A1D87F6ZCVE5NK      dll pa                     0   \n",
       "\n",
       "   HelpfulnessDenominator  Score        Time                Summary  \\\n",
       "0                       1      1  1303862400  Good Quality Dog Food   \n",
       "1                       0      0  1346976000      Not as Advertised   \n",
       "\n",
       "                                                Text  \n",
       "0  I have bought several of the Vitality canned d...  \n",
       "1  Product arrived labeled as Jumbo Salted Peanut...  "
      ]
     },
     "execution_count": 7,
     "metadata": {},
     "output_type": "execute_result"
    }
   ],
   "source": [
    "amazon_review_data.head(2)"
   ]
  },
  {
   "cell_type": "code",
   "execution_count": 8,
   "metadata": {},
   "outputs": [
    {
     "data": {
      "text/plain": [
       "(10000, 10)"
      ]
     },
     "execution_count": 8,
     "metadata": {},
     "output_type": "execute_result"
    }
   ],
   "source": [
    "amazon_review_data.shape"
   ]
  },
  {
   "cell_type": "code",
   "execution_count": 9,
   "metadata": {},
   "outputs": [
    {
     "data": {
      "text/html": [
       "<div>\n",
       "<style scoped>\n",
       "    .dataframe tbody tr th:only-of-type {\n",
       "        vertical-align: middle;\n",
       "    }\n",
       "\n",
       "    .dataframe tbody tr th {\n",
       "        vertical-align: top;\n",
       "    }\n",
       "\n",
       "    .dataframe thead th {\n",
       "        text-align: right;\n",
       "    }\n",
       "</style>\n",
       "<table border=\"1\" class=\"dataframe\">\n",
       "  <thead>\n",
       "    <tr style=\"text-align: right;\">\n",
       "      <th></th>\n",
       "      <th>UserId</th>\n",
       "      <th>Time</th>\n",
       "      <th>count(ProductId)</th>\n",
       "    </tr>\n",
       "  </thead>\n",
       "  <tbody>\n",
       "    <tr>\n",
       "      <th>0</th>\n",
       "      <td>A344SMIA5JECGM</td>\n",
       "      <td>944438400</td>\n",
       "      <td>3</td>\n",
       "    </tr>\n",
       "    <tr>\n",
       "      <th>1</th>\n",
       "      <td>A1048CYU0OV4O8</td>\n",
       "      <td>947376000</td>\n",
       "      <td>3</td>\n",
       "    </tr>\n",
       "  </tbody>\n",
       "</table>\n",
       "</div>"
      ],
      "text/plain": [
       "           UserId       Time  count(ProductId)\n",
       "0  A344SMIA5JECGM  944438400                 3\n",
       "1  A1048CYU0OV4O8  947376000                 3"
      ]
     },
     "execution_count": 9,
     "metadata": {},
     "output_type": "execute_result"
    }
   ],
   "source": [
    "#Querying duplicate reviews(user reviwed multiple products at same time)\n",
    "duplicate_views= pd.read_sql_query(\"\"\"SELECT  UserId,Time,count(ProductId) FROM Reviews GROUP BY Time,UserId HAVING COUNT(ProductId) >1\"\"\", con)\n",
    "\n",
    "duplicate_views.head(2)\n"
   ]
  },
  {
   "cell_type": "code",
   "execution_count": 10,
   "metadata": {},
   "outputs": [
    {
     "data": {
      "text/html": [
       "<div>\n",
       "<style scoped>\n",
       "    .dataframe tbody tr th:only-of-type {\n",
       "        vertical-align: middle;\n",
       "    }\n",
       "\n",
       "    .dataframe tbody tr th {\n",
       "        vertical-align: top;\n",
       "    }\n",
       "\n",
       "    .dataframe thead th {\n",
       "        text-align: right;\n",
       "    }\n",
       "</style>\n",
       "<table border=\"1\" class=\"dataframe\">\n",
       "  <thead>\n",
       "    <tr style=\"text-align: right;\">\n",
       "      <th></th>\n",
       "      <th>Id</th>\n",
       "      <th>ProductId</th>\n",
       "      <th>UserId</th>\n",
       "      <th>ProfileName</th>\n",
       "      <th>HelpfulnessNumerator</th>\n",
       "      <th>HelpfulnessDenominator</th>\n",
       "      <th>Score</th>\n",
       "      <th>Time</th>\n",
       "      <th>Summary</th>\n",
       "      <th>Text</th>\n",
       "    </tr>\n",
       "  </thead>\n",
       "  <tbody>\n",
       "    <tr>\n",
       "      <th>0</th>\n",
       "      <td>230285</td>\n",
       "      <td>B00004RYGX</td>\n",
       "      <td>A344SMIA5JECGM</td>\n",
       "      <td>Vincent P. Ross</td>\n",
       "      <td>1</td>\n",
       "      <td>2</td>\n",
       "      <td>5</td>\n",
       "      <td>944438400</td>\n",
       "      <td>A modern day fairy tale</td>\n",
       "      <td>A twist of rumplestiskin captured on film, sta...</td>\n",
       "    </tr>\n",
       "    <tr>\n",
       "      <th>1</th>\n",
       "      <td>374359</td>\n",
       "      <td>B00004CI84</td>\n",
       "      <td>A344SMIA5JECGM</td>\n",
       "      <td>Vincent P. Ross</td>\n",
       "      <td>1</td>\n",
       "      <td>2</td>\n",
       "      <td>5</td>\n",
       "      <td>944438400</td>\n",
       "      <td>A modern day fairy tale</td>\n",
       "      <td>A twist of rumplestiskin captured on film, sta...</td>\n",
       "    </tr>\n",
       "    <tr>\n",
       "      <th>2</th>\n",
       "      <td>451878</td>\n",
       "      <td>B00004CXX9</td>\n",
       "      <td>A344SMIA5JECGM</td>\n",
       "      <td>Vincent P. Ross</td>\n",
       "      <td>1</td>\n",
       "      <td>2</td>\n",
       "      <td>5</td>\n",
       "      <td>944438400</td>\n",
       "      <td>A modern day fairy tale</td>\n",
       "      <td>A twist of rumplestiskin captured on film, sta...</td>\n",
       "    </tr>\n",
       "  </tbody>\n",
       "</table>\n",
       "</div>"
      ],
      "text/plain": [
       "       Id   ProductId          UserId      ProfileName  HelpfulnessNumerator  \\\n",
       "0  230285  B00004RYGX  A344SMIA5JECGM  Vincent P. Ross                     1   \n",
       "1  374359  B00004CI84  A344SMIA5JECGM  Vincent P. Ross                     1   \n",
       "2  451878  B00004CXX9  A344SMIA5JECGM  Vincent P. Ross                     1   \n",
       "\n",
       "   HelpfulnessDenominator  Score       Time                  Summary  \\\n",
       "0                       2      5  944438400  A modern day fairy tale   \n",
       "1                       2      5  944438400  A modern day fairy tale   \n",
       "2                       2      5  944438400  A modern day fairy tale   \n",
       "\n",
       "                                                Text  \n",
       "0  A twist of rumplestiskin captured on film, sta...  \n",
       "1  A twist of rumplestiskin captured on film, sta...  \n",
       "2  A twist of rumplestiskin captured on film, sta...  "
      ]
     },
     "execution_count": 10,
     "metadata": {},
     "output_type": "execute_result"
    }
   ],
   "source": [
    "#user gave same  reviews for different products at same time ,which is not possible\n",
    "duplicate_display_user_view= pd.read_sql_query(\"\"\"SELECT *  FROM Reviews where UserId='A344SMIA5JECGM'\"\"\", con)\n",
    "\n",
    "duplicate_display_user_view"
   ]
  },
  {
   "cell_type": "code",
   "execution_count": 11,
   "metadata": {},
   "outputs": [],
   "source": [
    "#sort data based on product Id\n",
    "sorted_data=amazon_review_data.sort_values('ProductId',axis=0,ascending=True,inplace=False, kind='quicksort', na_position='last')"
   ]
  },
  {
   "cell_type": "code",
   "execution_count": 12,
   "metadata": {},
   "outputs": [],
   "source": [
    "#remove duplicates based in userid,profilename,time and text\n",
    "final_reviews=sorted_data.drop_duplicates({\"UserId\",\"ProfileName\",\"Time\",\"Text\"},keep=\"first\",inplace=False)"
   ]
  },
  {
   "cell_type": "code",
   "execution_count": 13,
   "metadata": {},
   "outputs": [
    {
     "data": {
      "text/plain": [
       "95.64"
      ]
     },
     "execution_count": 13,
     "metadata": {},
     "output_type": "execute_result"
    }
   ],
   "source": [
    "#checking how much percentage of values are dropped\n",
    "(final_reviews.size)/(amazon_review_data.size)*100"
   ]
  },
  {
   "cell_type": "code",
   "execution_count": 14,
   "metadata": {},
   "outputs": [
    {
     "data": {
      "text/plain": [
       "1    7976\n",
       "0    1588\n",
       "Name: Score, dtype: int64"
      ]
     },
     "execution_count": 14,
     "metadata": {},
     "output_type": "execute_result"
    }
   ],
   "source": [
    "final_reviews[\"Score\"].value_counts()"
   ]
  },
  {
   "cell_type": "code",
   "execution_count": 15,
   "metadata": {},
   "outputs": [],
   "source": [
    "#extracting only reviwes where numerator is less than denominator\n",
    "final_reviews=final_reviews[final_reviews.HelpfulnessNumerator<=final_reviews.HelpfulnessDenominator]"
   ]
  },
  {
   "cell_type": "markdown",
   "metadata": {},
   "source": [
    "## Data Cleanup"
   ]
  },
  {
   "cell_type": "code",
   "execution_count": 16,
   "metadata": {},
   "outputs": [
    {
     "name": "stdout",
     "output_type": "stream",
     "text": [
      "Orginal text Review :  Yes, I am having a cup right now.  I went all over town looking for this coffee after been invited to a non profit organization to a banquet and besides the delicious food they top it off with this amazing delicious coffee.  I paid and extra 20 bucks to get it right way and it is worth the money. Highly recommend.\n",
      "\n",
      "formatted text :  Yes, I am having a cup right now.  I went all over town looking for this coffee after been invited to a non profit organization to a banquet and besides the delicious food they top it off with this amazing delicious coffee.  I paid and extra 20 bucks to get it right way and it is worth the money. Highly recommend.\n"
     ]
    }
   ],
   "source": [
    "# removing URL tags using regular expressions\n",
    "import re\n",
    "print(\"Orginal text Review : \",final_reviews.Text[305]+\"\\n\")\n",
    "print(\"formatted text : \", re.sub(r\"http\\S+\",\"\",final_reviews.Text[305]))\n"
   ]
  },
  {
   "cell_type": "code",
   "execution_count": 17,
   "metadata": {},
   "outputs": [],
   "source": [
    "#removing contractions using contractions library (eg :I'll-->i will ,I'd --I would)\n",
    "import contractions\n",
    "def decontracted(text):\n",
    "    expanded_words=[]\n",
    "    for word in text.split():\n",
    "        expanded_words.append(contractions.fix(word))\n",
    "    expanded_text=\" \".join(expanded_words)\n",
    "    return expanded_text"
   ]
  },
  {
   "cell_type": "code",
   "execution_count": 18,
   "metadata": {},
   "outputs": [
    {
     "name": "stdout",
     "output_type": "stream",
     "text": [
      "Orginal text: I don't know if it's the cactus or the tequila or just the unique combination of ingredients, but the flavour of this hot sauce makes it one of a kind!  We picked up a bottle once on a trip we were on and brought it back home with us and were totally blown away!  When we realized that we simply couldn't find it anywhere in our city we were bummed.<br /><br />Now, because of the magic of the internet, we have a case of the sauce and are ecstatic because of it.<br /><br />If you love hot sauce..I mean really love hot sauce, but don't want a sauce that tastelessly burns your throat, grab a bottle of Tequila Picante Gourmet de Inclan.  Just realize that once you taste it, you will never want to use any other sauce.<br /><br />Thank you for the personal, incredible service!\n",
      "\n",
      "formatted text: I do not know if it is the cactus or the tequila or just the unique combination of ingredients, but the flavour of this hot sauce makes it one of a kind! We picked up a bottle once on a trip we were on and brought it back home with us and were totally blown away! When we realized that we simply could not find it anywhere in our city we were bummed.<br /><br />Now, because of the magic of the internet, we have a case of the sauce and are ecstatic because of it.<br /><br />If you love hot sauce..I mean really love hot sauce, but do not want a sauce that tastelessly burns your throat, grab a bottle of Tequila Picante Gourmet de Inclan. Just realize that once you taste it, you will never want to use any other sauce.<br /><br />Thank you for the personal, incredible service!\n"
     ]
    }
   ],
   "source": [
    "print(\"Orginal text: {}\\n\".format(final_reviews.Text[10]))\n",
    "print(\"formatted text: {}\".format(decontracted(final_reviews.Text[10])))"
   ]
  },
  {
   "cell_type": "code",
   "execution_count": 19,
   "metadata": {},
   "outputs": [
    {
     "name": "stdout",
     "output_type": "stream",
     "text": [
      "Orginal text Review : Gatorade G2 is the way to go when you want the benefits of Gatorade without quite so much sugar. As I am in a \"pre-diabetes\" state these days, I am drinking this type of Gatorade instead of the regular Gatorade which has noticeably more sugar in it. The really good thing is that this still replenishes carbs and electrolytes after I exercise without putting unnecessary extra sugar into my system.<br /><br />G2 comes in flavors including fruit punch and grape.<br /><br />If you're on the go, the advantage of these bottles of Gatorade is this: because the bottles are smaller you can carry them with you much easier than if you took the regular, larger size bottles of Gatorade G2.<br /><br />I highly recommend this drink if you need extra carbs or electrolytes after exercising; it replenishes them very well without the extra sugar found in regular Gatorade.\n",
      "\n",
      "formatted text Review  Gatorade G2 is the way to go when you want the benefits of Gatorade without quite so much sugar. As I am in a \"pre-diabetes\" state these days, I am drinking this type of Gatorade instead of the regular Gatorade which has noticeably more sugar in it. The really good thing is that this still replenishes carbs and electrolytes after I exercise without putting unnecessary extra sugar into my system.G2 comes in flavors including fruit punch and grape.If you're on the go, the advantage of these bottles of Gatorade is this: because the bottles are smaller you can carry them with you much easier than if you took the regular, larger size bottles of Gatorade G2.I highly recommend this drink if you need extra carbs or electrolytes after exercising; it replenishes them very well without the extra sugar found in regular Gatorade.\n"
     ]
    }
   ],
   "source": [
    "#removing tags like \"<>\" from text\n",
    "from bs4 import BeautifulSoup\n",
    "soup = BeautifulSoup(final_reviews.Text[1000], 'lxml')\n",
    "print(\"Orginal text Review : {}\\n\".format(final_reviews.Text[1000]))\n",
    "print(\"formatted text Review \",soup.text)\n"
   ]
  },
  {
   "cell_type": "code",
   "execution_count": 20,
   "metadata": {},
   "outputs": [
    {
     "name": "stderr",
     "output_type": "stream",
     "text": [
      "[nltk_data] Downloading package punkt to\n",
      "[nltk_data]     C:\\Users\\srini\\AppData\\Roaming\\nltk_data...\n",
      "[nltk_data]   Package punkt is already up-to-date!\n",
      "[nltk_data] Downloading package stopwords to\n",
      "[nltk_data]     C:\\Users\\srini\\AppData\\Roaming\\nltk_data...\n",
      "[nltk_data]   Package stopwords is already up-to-date!\n",
      "[nltk_data] Downloading package wordnet to\n",
      "[nltk_data]     C:\\Users\\srini\\AppData\\Roaming\\nltk_data...\n",
      "[nltk_data]   Package wordnet is already up-to-date!\n"
     ]
    }
   ],
   "source": [
    "#importing natural language processing tool kit\n",
    "#import stop words\n",
    "import nltk\n",
    "from nltk.corpus import stopwords \n",
    "nltk.download('punkt')\n",
    "nltk.download(\"stopwords\")\n",
    "from nltk.corpus import stopwords\n",
    "from nltk.tokenize import word_tokenize\n",
    "stopwords = stopwords.words('english')\n",
    "\n",
    "#import stemmer\n",
    "from nltk.stem import SnowballStemmer\n",
    "snowball_stemmer = SnowballStemmer('english')\n",
    "\n",
    "#import Lemittizer\n",
    "from nltk.stem import WordNetLemmatizer\n",
    "nltk.download('wordnet')\n",
    "word_lemmet = WordNetLemmatizer()\n",
    "\n",
    "def words_tune(text):\n",
    "    word_tokens=word_tokenize(text)\n",
    "    #removing_stop_words=' '.join(word.lower() for word in text.split() if word.lower() not in stopwords)\n",
    "    removing_stop_words=' '.join(word.lower() for word in text.split() if word.lower() not in stopwords)\n",
    "    #stem_words=[snowball_stemmer.stem(word) for word in word_tokens]\n",
    "    #lemet_words=[word_lemmet.lemmatize(word) for word in word_tokens]\n",
    "    return removing_stop_words"
   ]
  },
  {
   "cell_type": "code",
   "execution_count": 21,
   "metadata": {},
   "outputs": [
    {
     "name": "stdout",
     "output_type": "stream",
     "text": [
      "Orginal text Review : I was diappointed in the flavor and texture of this mix.  I usually like most of the Low Carb things I have tried, but was diappointed in this specific one.\n",
      "\n",
      "formatted text Review with stop words : diappointed flavor texture mix. usually like low carb things tried, diappointed specific one. \n",
      "\n"
     ]
    }
   ],
   "source": [
    "print(\"Orginal text Review : {}\\n\".format(final_reviews.Text[100]))\n",
    "print(\"formatted text Review with stop words : {} \\n\".format(words_tune(final_reviews.Text[100])))\n",
    "#print(\"formatted text Review with stematizer : {} \\n\".format(words_tune(final_reviews.Text[100])[1]))\n",
    "#print(\"formatted text Review with Lemmatizer : {} \\n\".format(words_tune(final_reviews.Text[100])[2]))"
   ]
  },
  {
   "cell_type": "code",
   "execution_count": 22,
   "metadata": {},
   "outputs": [
    {
     "name": "stderr",
     "output_type": "stream",
     "text": [
      "100%|█████████████████████████████████████████████████████████████████████████████| 9564/9564 [00:21<00:00, 449.12it/s]\n"
     ]
    }
   ],
   "source": [
    "#performing cleanup and creating final reviw using above methods by removing stop words\n",
    "from tqdm import tqdm\n",
    "processed_reviews_with_stop_words=[]\n",
    "for sentence in tqdm(final_reviews['Text'].values):\n",
    "    #removing urls from text\n",
    "    sentence= re.sub(r\"http\\S+\",\"\",sentence)\n",
    "    #removing tags in the text\n",
    "    sentence=BeautifulSoup(sentence, 'lxml').text\n",
    "    #removing contractions using contractions library (eg :I'll-->i will ,I'd --I would)\n",
    "    sentence=decontracted(sentence)\n",
    "    #removing digits from text\n",
    "    sentence = re.sub(\"\\S*\\d\\S*\", \"\", sentence).strip()\n",
    "    #removing punctuational characters from text\n",
    "    sentence = re.sub('[^A-Za-z]+', ' ', sentence)\n",
    "    #applying stop words\n",
    "    sentence=words_tune(sentence)\n",
    "    processed_reviews_with_stop_words.append(sentence)\n",
    "    \n",
    "    \n"
   ]
  },
  {
   "cell_type": "code",
   "execution_count": 23,
   "metadata": {},
   "outputs": [
    {
     "name": "stderr",
     "output_type": "stream",
     "text": [
      "100%|█████████████████████████████████████████████████████████████████████████████| 9564/9564 [00:12<00:00, 790.45it/s]\n"
     ]
    }
   ],
   "source": [
    "#performing cleanup and creating final reviw using above methods by removing stop words\n",
    "processed_reviews_without_stop_words=[]\n",
    "for sentence in tqdm(final_reviews['Text'].values):\n",
    "    #removing urls from text\n",
    "    sentence= re.sub(r\"http\\S+\",\"\",sentence)\n",
    "    #removing tags in the text\n",
    "    sentence=BeautifulSoup(sentence, 'lxml').text\n",
    "    #removing contractions using contractions library (eg :I'll-->i will ,I'd --I would)\n",
    "    sentence=decontracted(sentence)\n",
    "    #removing digits from text\n",
    "    sentence = re.sub(\"\\S*\\d\\S*\", \"\", sentence).strip()\n",
    "    #removing punctuational characters from text\n",
    "    sentence = re.sub('[^A-Za-z]+', ' ', sentence)\n",
    "    #applying stop words\n",
    "    #sentence=words_tune(sentence)\n",
    "    processed_reviews_without_stop_words.append(sentence)"
   ]
  },
  {
   "cell_type": "markdown",
   "metadata": {},
   "source": [
    "## Apply Data Preprocessign techniques on Reviews"
   ]
  },
  {
   "cell_type": "code",
   "execution_count": 24,
   "metadata": {},
   "outputs": [
    {
     "name": "stdout",
     "output_type": "stream",
     "text": [
      "9564 rows  and 18148 dimensions\n"
     ]
    }
   ],
   "source": [
    "#applying bag of words using Countvectorizer\n",
    "count_vector=CountVectorizer()\n",
    "Bag_ofWords_vector=count_vector.fit_transform(processed_reviews_with_stop_words)\n",
    "print(\"{} rows  and {} dimensions\".format(Bag_ofWords_vector.get_shape()[0],Bag_ofWords_vector.get_shape()[1]))\n"
   ]
  },
  {
   "cell_type": "code",
   "execution_count": 25,
   "metadata": {},
   "outputs": [
    {
     "name": "stdout",
     "output_type": "stream",
     "text": [
      "9564 rows  and 12096 dimensions\n"
     ]
    }
   ],
   "source": [
    "#applying Bi grams and n-grams\n",
    "gram_count_vector=CountVectorizer(ngram_range=(1,2),min_df=10)\n",
    "bigram_count=gram_count_vector.fit_transform(processed_reviews_without_stop_words)\n",
    "print(\"{} rows  and {} dimensions\".format(bigram_count.get_shape()[0],bigram_count.get_shape()[1]))"
   ]
  },
  {
   "cell_type": "code",
   "execution_count": 26,
   "metadata": {},
   "outputs": [
    {
     "name": "stdout",
     "output_type": "stream",
     "text": [
      "9564 rows  and 12096 dimensions\n"
     ]
    }
   ],
   "source": [
    "#applying tf-idf\n",
    "f_idf_vect=TfidfVectorizer(ngram_range=(1,2),min_df=10)\n",
    "tf_idf_count=tf_idf_vect.fit_transform(processed_reviews_without_stop_words)\n",
    "print(\"{} rows  and {} dimensions\".format(tf_idf_count.get_shape()[0],tf_idf_count.get_shape()[1]))"
   ]
  },
  {
   "cell_type": "code",
   "execution_count": 27,
   "metadata": {},
   "outputs": [
    {
     "name": "stdout",
     "output_type": "stream",
     "text": [
      "====================================================================================================\n"
     ]
    }
   ],
   "source": [
    "#implementing word2vec\n",
    "import os\n",
    "from gensim.models import Word2Vec,KeyedVectors\n",
    "\n",
    "i=0\n",
    "list_of_sentance=[]\n",
    "for sentance in processed_reviews_without_stop_words:\n",
    "    list_of_sentance.append(sentance.split())\n",
    "\n",
    "is_your_ram_gt_16g=False\n",
    "want_to_use_google_w2v = False\n",
    "want_to_train_w2v = True\n",
    "\n",
    "if want_to_train_w2v:\n",
    "    w2v_model=Word2Vec(list_of_sentance,min_count=5,vector_size=50, workers=4)\n",
    "    print(\"Completed\")\n"
   ]
  },
  {
   "cell_type": "code",
   "execution_count": 28,
   "metadata": {},
   "outputs": [
    {
     "name": "stdout",
     "output_type": "stream",
     "text": [
      "[('wonderful', 0.8777118921279907), ('good', 0.8035871982574463), ('fantastic', 0.7924948334693909), ('perfect', 0.7623525857925415), ('amazing', 0.7455849051475525), ('awesome', 0.7384247183799744), ('delicious', 0.7132108807563782), ('excellent', 0.7045275568962097), ('decent', 0.6870899200439453), ('nice', 0.6806646585464478)]\n"
     ]
    }
   ],
   "source": [
    "#finding similar words based on built in existing reviwes\n",
    "print(w2v_model.wv.most_similar('great'))"
   ]
  },
  {
   "cell_type": "code",
   "execution_count": 29,
   "metadata": {},
   "outputs": [
    {
     "name": "stdout",
     "output_type": "stream",
     "text": [
      "[('best', 0.836672842502594), ('smoothest', 0.785223126411438), ('decaf', 0.7626327872276306), ('tastiest', 0.757561981678009), ('Switch', 0.7455514669418335), ('greatest', 0.7426635026931763), ('Canin', 0.7329196929931641), ('particular', 0.7314881682395935), ('strongest', 0.7312579154968262), ('name', 0.7284085750579834)]\n"
     ]
    }
   ],
   "source": [
    "print(w2v_model.wv.most_similar('worst'))"
   ]
  },
  {
   "cell_type": "code",
   "execution_count": 30,
   "metadata": {},
   "outputs": [
    {
     "name": "stdout",
     "output_type": "stream",
     "text": [
      "number of words that occured minimum 5 times  6723\n",
      "sample words  ['I', 'the', 'and', 'a', 'to', 'is', 'it', 'of', 'not', 'for', 'this', 'in', 'have', 'that', 'are', 'with', 'you', 'my', 'was', 'but', 'on', 'as', 'like', 'they', 'The', 'them', 'so', 'good', 'can', 'these', 'be', 'will', 'or', 'taste', 'at', 'do', 'coffee', 'just', 'This', 'would', 'great', 'very', 'product', 'one', 'am', 'all', 'flavor', 'It', 'from', 'has']\n"
     ]
    }
   ],
   "source": [
    "w2v_words = list(w2v_model.wv.key_to_index)\n",
    "print(\"number of words that occured minimum 5 times \",len(w2v_words))\n",
    "print(\"sample words \", w2v_words[0:50])"
   ]
  },
  {
   "cell_type": "code",
   "execution_count": 31,
   "metadata": {},
   "outputs": [
    {
     "name": "stderr",
     "output_type": "stream",
     "text": [
      "100%|██████████████████████████████████████████████████████████████████████████████| 9564/9564 [04:26<00:00, 35.94it/s]\n"
     ]
    }
   ],
   "source": [
    "#implementing TF-IDF W2VEC\n",
    "model = TfidfVectorizer()\n",
    "tf_idf_matrix = model.fit_transform(processed_reviews_with_stop_words)\n",
    "# we are converting a dictionary with word as a key, and the idf as a value\n",
    "dictionary = dict(zip(model.get_feature_names(), list(model.idf_)))\n",
    "\n",
    "tfidf_feat = model.get_feature_names() \n",
    "tfidf_sent_vectors = [];\n",
    "row=0;\n",
    "for sent in tqdm(list_of_sentance): # for each review/sentence \n",
    "    sent_vec = np.zeros(50) # as word vectors are of zero length\n",
    "    weight_sum =0; # num of words with a valid vector in the sentence/review\n",
    "    for word in sent: # for each word in a review/sentence\n",
    "        if word in w2v_words and word in tfidf_feat:\n",
    "            vec = w2v_model.wv[word]\n",
    "            tf_idf = dictionary[word]*(sent.count(word)/len(sent))\n",
    "            sent_vec += (vec * tf_idf)\n",
    "            weight_sum += tf_idf\n",
    "    if weight_sum != 0:\n",
    "        sent_vec /= weight_sum\n",
    "    tfidf_sent_vectors.append(sent_vec)\n",
    "    row += 1"
   ]
  },
  {
   "cell_type": "code",
   "execution_count": 32,
   "metadata": {},
   "outputs": [],
   "source": [
    "# splitting reviwes as independing variable and score as dependent varaiable\n",
    "\n",
    "X=processed_reviews_with_stop_words\n",
    "Y=final_reviews.Score\n",
    "\n",
    "from sklearn.model_selection import train_test_split\n",
    "X_train,X_test,Y_train,Y_test=train_test_split(X,Y,test_size=0.3,random_state=32)\n",
    "\n"
   ]
  },
  {
   "cell_type": "code",
   "execution_count": 33,
   "metadata": {},
   "outputs": [],
   "source": [
    "#creating a function for roc and confusion matriz\n",
    "def model_roc_confusion_matrix(model,X_train_data,X_test_data,Y_train_data,Y_test_data):\n",
    "    pred_proba_train=model.predict_proba(X_train_data)[:,1]\n",
    "    fpr_train,tpr_train,thresholds_train = roc_curve(Y_train_data,pred_proba_train)\n",
    "    \n",
    "    pred_proba_test=model.predict_proba(X_test_data)[:,1]\n",
    "    fpr_test,tpr_test,thresholds_test = roc_curve(Y_test_data,pred_proba_test)\n",
    "    \n",
    "    \n",
    "    plt.figure(figsize=(18,5))\n",
    "    plt.subplot(1,3,1)\n",
    "    plt.plot(fpr_train,tpr_train,label=\"Train ROC ,AUC=\"+str(roc_auc_score(Y_train_data,pred_proba_train)))\n",
    "    plt.plot(fpr_test,tpr_test,label=\"Test ROC ,AUC=\"+str(roc_auc_score(Y_test_data,pred_proba_test)))\n",
    "    \n",
    "\n",
    "    plt.title(\"ROC\")\n",
    "    plt.xlabel(\"FPR\")\n",
    "    plt.ylabel(\"TPR\")\n",
    "    plt.legend()\n",
    "    plt.show()\n",
    "    \n",
    "    \n",
    "    \n",
    "    #model.fit(X_train_data,Y_train_data)\n",
    "    Y_pred_train=model.predict(X_train_data)\n",
    "    confusion_matrix_train=confusion_matrix(Y_train_data,Y_pred_train)\n",
    "    class_label = [\"negative\", \"positive\"]\n",
    "    plt.figure(figsize=(18,5))\n",
    "    plt.subplot(1,3,2)\n",
    "    df_train = pd.DataFrame(confusion_matrix_train, index = class_label, columns = class_label)\n",
    "    sns.heatmap(df_train,annot=True,fmt=\"d\")\n",
    "    plt.title(\"Confusion Matrix for Training data\")\n",
    "    plt.xlabel(\"predicted label\")\n",
    "    plt.ylabel(\"True label\")\n",
    "    plt.show()\n",
    "    \n",
    "   \n",
    "    Y_pred_test=model.predict(X_test_data)\n",
    "    confusion_matrix_test=confusion_matrix(Y_test_data,Y_pred_test)\n",
    "    class_label = [\"negative\", \"positive\"]\n",
    "    plt.figure(figsize=(18,5))\n",
    "    plt.subplot(1,3,3)\n",
    "    df_test = pd.DataFrame(confusion_matrix_test, index = class_label, columns = class_label)\n",
    "    sns.heatmap(df_test,annot=True,fmt=\"d\")\n",
    "    plt.title(\"Confusion Matrix for Test data\")\n",
    "    plt.xlabel(\"predicted label\")\n",
    "    plt.ylabel(\"True label\")\n",
    "    plt.show()\n",
    "\n"
   ]
  },
  {
   "cell_type": "code",
   "execution_count": 34,
   "metadata": {},
   "outputs": [
    {
     "name": "stdout",
     "output_type": "stream",
     "text": [
      "optimal n_estimators 120\n",
      "optimal max_depth 50\n"
     ]
    }
   ],
   "source": [
    "from sklearn.preprocessing import StandardScaler\n",
    "from sklearn.ensemble import RandomForestClassifier\n",
    "from sklearn.model_selection import GridSearchCV\n",
    "from sklearn.metrics import roc_auc_score,roc_curve,confusion_matrix\n",
    "\n",
    "\n",
    "count_vect = CountVectorizer()\n",
    "X_train_bow=count_vect.fit_transform(X_train)\n",
    "X_test_bow=count_vect.transform(X_test)\n",
    "\n",
    "scalar = StandardScaler(with_mean=False)\n",
    "X_train_bow = scalar.fit_transform(X_train_bow)\n",
    "X_test_bow= scalar.transform(X_test_bow)\n",
    "\n",
    "\n",
    "\n",
    "base_learners = [20,40,60,80,100,120]\n",
    "depths=[1,5,10,50,100,500,1000]\n",
    "\n",
    "param_grid={'n_estimators': base_learners, 'max_depth':depths}\n",
    "rf = RandomForestClassifier(max_features='sqrt')\n",
    "gv_rfc_model=GridSearchCV(rf,param_grid,scoring='roc_auc',n_jobs=-1,cv=3)\n",
    "gv_rfc_model.fit(X_train_bow,Y_train)\n",
    "\n",
    "print(\"optimal n_estimators\",gv_rfc_model.best_estimator_.n_estimators)\n",
    "print(\"optimal max_depth\",gv_rfc_model.best_estimator_.max_depth)"
   ]
  },
  {
   "cell_type": "code",
   "execution_count": 35,
   "metadata": {},
   "outputs": [
    {
     "data": {
      "image/png": "[encoded data removed]",
      "text/plain": [
       "<Figure size 1296x360 with 1 Axes>"
      ]
     },
     "metadata": {
      "needs_background": "light"
     },
     "output_type": "display_data"
    },
    {
     "data": {
      "image/png": "[encoded data removed]",
      "text/plain": [
       "<Figure size 1296x360 with 2 Axes>"
      ]
     },
     "metadata": {
      "needs_background": "light"
     },
     "output_type": "display_data"
    },
    {
     "data": {
      "image/png": "[encoded data removed]",
      "text/plain": [
       "<Figure size 1296x360 with 2 Axes>"
      ]
     },
     "metadata": {
      "needs_background": "light"
     },
     "output_type": "display_data"
    }
   ],
   "source": [
    "model_roc_confusion_matrix(gv_rfc_model,X_train_bow,X_test_bow,Y_train,Y_test)"
   ]
  },
  {
   "cell_type": "code",
   "execution_count": 36,
   "metadata": {},
   "outputs": [
    {
     "name": "stdout",
     "output_type": "stream",
     "text": [
      "[13:52:57] WARNING: ..\\src\\learner.cc:1061: Starting in XGBoost 1.3.0, the default evaluation metric used with the objective 'binary:logistic' was changed from 'error' to 'logloss'. Explicitly set eval_metric if you'd like to restore the old behavior.\n",
      "optimal n_estimators 120\n",
      "optimal max_depth 5\n"
     ]
    }
   ],
   "source": [
    "from xgboost import XGBClassifier\n",
    "\n",
    "base_learners = [20,40,60,80,100,120]\n",
    "depths=[1,5,10,50,100,500,1000]\n",
    "param_grid={'n_estimators': base_learners, 'max_depth':depths}\n",
    "xgbc=XGBClassifier(booster='gbtree')\n",
    "model_xgbc_gcv=GridSearchCV(xgbc,param_grid,scoring='roc_auc',n_jobs=-1,cv=3)\n",
    "model_xgbc_gcv.fit(X_train_bow,Y_train)\n",
    "\n",
    "print(\"optimal n_estimators\",model_xgbc_gcv.best_estimator_.n_estimators)\n",
    "print(\"optimal max_depth\",model_xgbc_gcv.best_estimator_.max_depth)"
   ]
  },
  {
   "cell_type": "code",
   "execution_count": 37,
   "metadata": {},
   "outputs": [
    {
     "data": {
      "image/png": "[encoded data removed]",
      "text/plain": [
       "<Figure size 1296x360 with 1 Axes>"
      ]
     },
     "metadata": {
      "needs_background": "light"
     },
     "output_type": "display_data"
    },
    {
     "data": {
      "image/png": "[encoded data removed]",
      "text/plain": [
       "<Figure size 1296x360 with 2 Axes>"
      ]
     },
     "metadata": {
      "needs_background": "light"
     },
     "output_type": "display_data"
    },
    {
     "data": {
      "image/png": "[encoded data removed]",
      "text/plain": [
       "<Figure size 1296x360 with 2 Axes>"
      ]
     },
     "metadata": {
      "needs_background": "light"
     },
     "output_type": "display_data"
    }
   ],
   "source": [
    "model_roc_confusion_matrix(model_xgbc_gcv,X_train_bow,X_test_bow,Y_train,Y_test)"
   ]
  },
  {
   "cell_type": "code",
   "execution_count": 74,
   "metadata": {},
   "outputs": [
    {
     "name": "stderr",
     "output_type": "stream",
     "text": [
      "100%|█████████████████████████████████████████████████████████████████████████████| 6694/6694 [00:10<00:00, 650.67it/s]\n",
      "100%|█████████████████████████████████████████████████████████████████████████████| 2870/2870 [00:03<00:00, 811.46it/s]\n"
     ]
    }
   ],
   "source": [
    "# Applying XGBOOST on TFIDF W2V\n",
    "# Please write all the code with proper documentation\n",
    "list_of_sentance_train=[]\n",
    "for sentance in X_train:\n",
    "    list_of_sentance_train.append(sentance.split())\n",
    "w2v_model=Word2Vec(list_of_sentance_train,min_count=5,vector_size=50, workers=4) \n",
    "w2v_words = list(w2v_model.wv.key_to_index)\n",
    "tf_idf_vect = TfidfVectorizer(ngram_range=(1,2),min_df=10, max_features=500)\n",
    "\n",
    "tf_idf_matrix=tf_idf_vect.fit_transform(X_train)\n",
    "\n",
    "\n",
    "tfidf_feat = tf_idf_vect.get_feature_names() \n",
    "dictionary = dict(zip(tf_idf_vect.get_feature_names(), list(tf_idf_vect.idf_)))\n",
    "\n",
    "#for train data\n",
    "\n",
    "tfidf_sent_vectors_train = []; \n",
    "row=0;\n",
    "for sent in tqdm(list_of_sentance_train): \n",
    "    sent_vec = np.zeros(50)\n",
    "    weight_sum =0;\n",
    "    for word in sent: \n",
    "        if word in w2v_words and word in tfidf_feat:\n",
    "            vec = w2v_model.wv[word]\n",
    "            tf_idf = dictionary[word]*(sent.count(word)/len(sent))\n",
    "            sent_vec += (vec * tf_idf)\n",
    "            weight_sum += tf_idf\n",
    "    if weight_sum != 0:\n",
    "        sent_vec /= weight_sum\n",
    "    tfidf_sent_vectors_train.append(sent_vec)\n",
    "    row += 1\n",
    "\n",
    "\n",
    "#for test data\n",
    "list_of_sentance_test=[]\n",
    "for sentance in X_test:\n",
    "    list_of_sentance_test.append(sentance.split())\n",
    "tfidf_sent_vectors_test = []; \n",
    "row=0;\n",
    "for sent in tqdm(list_of_sentance_test): \n",
    "    sent_vec = np.zeros(50)\n",
    "    weight_sum =0;\n",
    "    for word in sent: \n",
    "        if word in w2v_words and word in tfidf_feat:\n",
    "            vec = w2v_model.wv[word]\n",
    "            tf_idf = dictionary[word]*(sent.count(word)/len(sent))\n",
    "            sent_vec += (vec * tf_idf)\n",
    "            weight_sum += tf_idf\n",
    "    if weight_sum != 0:\n",
    "        sent_vec /= weight_sum\n",
    "    tfidf_sent_vectors_test.append(sent_vec)\n",
    "    row += 1    "
   ]
  },
  {
   "cell_type": "code",
   "execution_count": 78,
   "metadata": {},
   "outputs": [],
   "source": [
    "X_train_tfw2v=np.array(tfidf_sent_vectors_train)\n",
    "X_test_tfw2v=np.array(tfidf_sent_vectors_test)"
   ]
  },
  {
   "cell_type": "code",
   "execution_count": 81,
   "metadata": {},
   "outputs": [
    {
     "name": "stdout",
     "output_type": "stream",
     "text": [
      "[14:39:48] WARNING: ..\\src\\learner.cc:1061: Starting in XGBoost 1.3.0, the default evaluation metric used with the objective 'binary:logistic' was changed from 'error' to 'logloss'. Explicitly set eval_metric if you'd like to restore the old behavior.\n"
     ]
    },
    {
     "data": {
      "text/plain": [
       "GridSearchCV(cv=3,\n",
       "             estimator=XGBClassifier(base_score=None, booster='gbtree',\n",
       "                                     colsample_bylevel=None,\n",
       "                                     colsample_bynode=None,\n",
       "                                     colsample_bytree=None, gamma=None,\n",
       "                                     gpu_id=None, importance_type='gain',\n",
       "                                     interaction_constraints=None,\n",
       "                                     learning_rate=None, max_delta_step=None,\n",
       "                                     max_depth=None, min_child_weight=None,\n",
       "                                     missing=nan, monotone_constraints=None,\n",
       "                                     n_estimators=100, n_jobs=None,\n",
       "                                     num_parallel_tree=None, random_state=None,\n",
       "                                     reg_alpha=None, reg_lambda=None,\n",
       "                                     scale_pos_weight=None, subsample=None,\n",
       "                                     tree_method=None, validate_parameters=None,\n",
       "                                     verbosity=None),\n",
       "             n_jobs=-1,\n",
       "             param_grid={'max_depth': [1, 5, 10, 50, 100, 500, 1000],\n",
       "                         'n_estimators': [20, 40, 60, 80, 100, 120]},\n",
       "             scoring='roc_auc')"
      ]
     },
     "execution_count": 81,
     "metadata": {},
     "output_type": "execute_result"
    }
   ],
   "source": [
    "base_learners = [20,40,60,80,100,120]\n",
    "depths=[1,5,10,50,100,500,1000]\n",
    "param_grid={'n_estimators': base_learners, 'max_depth':depths}\n",
    "xgbc=XGBClassifier(booster='gbtree')\n",
    "model_xgbc_gcv=GridSearchCV(xgbc,param_grid,scoring='roc_auc',n_jobs=-1,cv=3)\n",
    "model_xgbc_gcv.fit(X_train_tfw2v,Y_train)\n",
    "\n",
    "\n"
   ]
  },
  {
   "cell_type": "code",
   "execution_count": 82,
   "metadata": {},
   "outputs": [
    {
     "data": {
      "image/png": "[encoded data removed]",
      "text/plain": [
       "<Figure size 1296x360 with 1 Axes>"
      ]
     },
     "metadata": {
      "needs_background": "light"
     },
     "output_type": "display_data"
    },
    {
     "data": {
      "image/png": "[encoded data removed]",
      "text/plain": [
       "<Figure size 1296x360 with 2 Axes>"
      ]
     },
     "metadata": {
      "needs_background": "light"
     },
     "output_type": "display_data"
    },
    {
     "data": {
      "image/png": "[encoded data removed]",
      "text/plain": [
       "<Figure size 1296x360 with 2 Axes>"
      ]
     },
     "metadata": {
      "needs_background": "light"
     },
     "output_type": "display_data"
    }
   ],
   "source": [
    "model_roc_confusion_matrix(model_xgbc_gcv,X_train_tfw2v,X_test_tfw2v,Y_train,Y_test)"
   ]
  },
  {
   "cell_type": "code",
   "execution_count": null,
   "metadata": {},
   "outputs": [],
   "source": []
  }
 ],
 "metadata": {
  "kernelspec": {
   "display_name": "Python 3",
   "language": "python",
   "name": "python3"
  },
  "language_info": {
   "codemirror_mode": {
    "name": "ipython",
    "version": 3
   },
   "file_extension": ".py",
   "mimetype": "text/x-python",
   "name": "python",
   "nbconvert_exporter": "python",
   "pygments_lexer": "ipython3",
   "version": "3.8.3"
  }
 },
 "nbformat": 4,
 "nbformat_minor": 4
}
